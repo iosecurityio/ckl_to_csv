{
 "cells": [
  {
   "cell_type": "markdown",
   "id": "bb84623269085de2",
   "metadata": {
    "collapsed": false,
    "jupyter": {
     "outputs_hidden": false
    }
   },
   "source": [
    "# STIG Converter \n",
    "\n",
    "Convert DISA STIG checklists to and from various formats.\n",
    "\n",
    "---\n"
   ]
  },
  {
   "cell_type": "markdown",
   "id": "2c25b11ddccbf739",
   "metadata": {
    "collapsed": false,
    "jp-MarkdownHeadingCollapsed": true,
    "jupyter": {
     "outputs_hidden": false
    }
   },
   "source": [
    "## convert .ckl file to .csv file\n",
    "Convert a STIG checklist in CKL format into a CSV format"
   ]
  },
  {
   "cell_type": "code",
   "execution_count": 1,
   "id": "12858139c03b3f27",
   "metadata": {
    "ExecuteTime": {
     "end_time": "2024-04-06T15:21:22.262550Z",
     "start_time": "2024-04-06T15:21:22.210412Z"
    },
    "collapsed": false,
    "jupyter": {
     "outputs_hidden": false
    }
   },
   "outputs": [
    {
     "data": {
      "text/plain": [
       "'data/stig_checklist-20240406.csv'"
      ]
     },
     "execution_count": 1,
     "metadata": {},
     "output_type": "execute_result"
    }
   ],
   "source": [
    "# Converting a CKL to a CSV File\n",
    "\n",
    "# Import the function from the ckl_to_csv script\n",
    "from stig_converter.scripts.ckl_to_csv import convert_ckl_to_csv\n",
    "\n",
    "# Run the function like so, you need to specify an input checklist and an output directory\n",
    "convert_ckl_to_csv(stig_checklist=\"data/stig_checklist.ckl\", csv_path=\"data/\")\n"
   ]
  },
  {
   "cell_type": "markdown",
   "id": "881d371de87fc861",
   "metadata": {
    "collapsed": false,
    "jupyter": {
     "outputs_hidden": false
    }
   },
   "source": [
    "The function will just return the newly generated filepath as a string.\n",
    "\n",
    "In this case, it created a new file:\n",
    "\n",
    "`data/stig_checklist-20240406.csv`\n"
   ]
  },
  {
   "cell_type": "markdown",
   "id": "e1e20bafa57f5712",
   "metadata": {
    "collapsed": false,
    "jupyter": {
     "outputs_hidden": false
    }
   },
   "source": [
    "## convert .json file to .ckl file"
   ]
  },
  {
   "cell_type": "code",
   "execution_count": null,
   "id": "e6c794757adc5b84",
   "metadata": {
    "collapsed": false,
    "jupyter": {
     "outputs_hidden": false
    }
   },
   "outputs": [],
   "source": []
  },
  {
   "cell_type": "markdown",
   "id": "fa7a2646dca909cf",
   "metadata": {
    "collapsed": false,
    "jupyter": {
     "outputs_hidden": false
    }
   },
   "source": [
    "## convert .csv file to .json file\n"
   ]
  },
  {
   "cell_type": "code",
   "execution_count": null,
   "id": "baa3a4236e9ccb94",
   "metadata": {
    "collapsed": false,
    "jupyter": {
     "outputs_hidden": false
    }
   },
   "outputs": [],
   "source": []
  },
  {
   "cell_type": "markdown",
   "id": "7fff08aee8762860",
   "metadata": {
    "collapsed": false,
    "jupyter": {
     "outputs_hidden": false
    }
   },
   "source": [
    "## convert .ckl file to .json file\n"
   ]
  },
  {
   "cell_type": "code",
   "execution_count": null,
   "id": "759d5ef3256013c",
   "metadata": {
    "collapsed": false,
    "jupyter": {
     "outputs_hidden": false
    }
   },
   "outputs": [],
   "source": []
  }
 ],
 "metadata": {
  "kernelspec": {
   "display_name": "Python 3 (ipykernel)",
   "language": "python",
   "name": "python3"
  },
  "language_info": {
   "codemirror_mode": {
    "name": "ipython",
    "version": 3
   },
   "file_extension": ".py",
   "mimetype": "text/x-python",
   "name": "python",
   "nbconvert_exporter": "python",
   "pygments_lexer": "ipython3",
   "version": "3.9.6"
  }
 },
 "nbformat": 4,
 "nbformat_minor": 5
}
